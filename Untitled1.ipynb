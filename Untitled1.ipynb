{
  "nbformat": 4,
  "nbformat_minor": 0,
  "metadata": {
    "colab": {
      "provenance": [],
      "mount_file_id": "1vySMJSVpPdzFHrr1PhJubP8pibE-6qCl",
      "authorship_tag": "ABX9TyPnVsn4O7t0Oy+AP6qE+wzS",
      "include_colab_link": true
    },
    "kernelspec": {
      "name": "python3",
      "display_name": "Python 3"
    },
    "language_info": {
      "name": "python"
    }
  },
  "cells": [
    {
      "cell_type": "markdown",
      "metadata": {
        "id": "view-in-github",
        "colab_type": "text"
      },
      "source": [
        "<a href=\"https://colab.research.google.com/github/Katerina2626/ML/blob/main/Untitled1.ipynb\" target=\"_parent\"><img src=\"https://colab.research.google.com/assets/colab-badge.svg\" alt=\"Open In Colab\"/></a>"
      ]
    },
    {
      "cell_type": "code",
      "source": [
        "\n",
        "from google.colab import drive\n",
        "drive.mount('/content/drive')"
      ],
      "metadata": {
        "colab": {
          "base_uri": "https://localhost:8080/"
        },
        "id": "sVOXkGDg6Sfv",
        "outputId": "eb3668dc-6bef-4b6a-8caf-66037ff31955"
      },
      "execution_count": 4,
      "outputs": [
        {
          "output_type": "stream",
          "name": "stdout",
          "text": [
            "Drive already mounted at /content/drive; to attempt to forcibly remount, call drive.mount(\"/content/drive\", force_remount=True).\n"
          ]
        }
      ]
    },
    {
      "cell_type": "markdown",
      "source": [],
      "metadata": {
        "id": "EfL6eZ8N6T1z"
      }
    },
    {
      "cell_type": "code",
      "source": [
        "from pandas import read_excel\n",
        "from sklearn.preprocessing import MinMaxScaler\n",
        "series = read_excel ('/content/drive/MyDrive/Colab Notebooks/разработка нейронных сетей/олимпиады 2.2/датасет23.xlsx', header=0, index_col=0)\n",
        "print(series.head())\n",
        "\n",
        "values = series.values\n",
        "values = values[:1000]\n",
        "values = values.reshape(len(values), 7)\n",
        "\n",
        "scaler = MinMaxScaler(feature_range = (0,1))\n",
        "scaler.fit(values)\n",
        "print('Min: %f, Max: %f' % (scaler.data_min_.flatten()[0], scaler.data_max_.flatten()[0]))\n",
        "\n",
        "normalized = scaler.transform(values)\n",
        "for i in range(5):\n",
        "  print(normalized[i])\n",
        "\n",
        "inversed = scaler.inverse_transform(normalized)\n",
        "for i in range(5):\n",
        "  print(inversed[i])\n"
      ],
      "metadata": {
        "id": "NaVpmj7TyRvm",
        "colab": {
          "base_uri": "https://localhost:8080/"
        },
        "outputId": "11bd8c6d-7d17-466d-ce3c-8a56bd1227d8"
      },
      "execution_count": 9,
      "outputs": [
        {
          "output_type": "stream",
          "name": "stdout",
          "text": [
            "            макс температура  мин температура  средняя температура  \\\n",
            "Дата                                                                 \n",
            "2010-12-01               1.0             -4.9                 -1.5   \n",
            "2010-12-02               0.0             -5.4                 -2.1   \n",
            "2010-12-03              -2.3             -7.4                 -4.1   \n",
            "2010-12-04              -1.8             -8.0                 -4.6   \n",
            "2010-12-05              -5.7            -14.2                 -8.9   \n",
            "\n",
            "            атмосферное давление  скорость ветра  осадки  \\\n",
            "Дата                                                       \n",
            "2010-12-01                   NaN               5     0.0   \n",
            "2010-12-02                   NaN               2     1.0   \n",
            "2010-12-03                   NaN               1     5.0   \n",
            "2010-12-04                   NaN               0     0.0   \n",
            "2010-12-05                   NaN               1     0.0   \n",
            "\n",
            "            эффективная температура  \n",
            "Дата                                 \n",
            "2010-12-01                     -6.7  \n",
            "2010-12-02                     -5.2  \n",
            "2010-12-03                     -6.7  \n",
            "2010-12-04                     -6.7  \n",
            "2010-12-05                    -12.0  \n",
            "Min: -11.900000, Max: 35.900000\n",
            "[0.26987448 0.44691358 0.33333333        nan 0.625      0.\n",
            " 0.26813187]\n",
            "[0.24895397 0.4345679  0.31884058        nan 0.25       0.01369863\n",
            " 0.3010989 ]\n",
            "[0.20083682 0.38518519 0.2705314         nan 0.125      0.06849315\n",
            " 0.26813187]\n",
            "[0.21129707 0.37037037 0.25845411        nan 0.         0.\n",
            " 0.26813187]\n",
            "[0.12970711 0.21728395 0.15458937        nan 0.125      0.\n",
            " 0.15164835]\n",
            "[ 1.  -4.9 -1.5  nan  5.   0.  -6.7]\n",
            "[ 0.  -5.4 -2.1  nan  2.   1.  -5.2]\n",
            "[-2.3 -7.4 -4.1  nan  1.   5.  -6.7]\n",
            "[-1.8 -8.  -4.6  nan  0.   0.  -6.7]\n",
            "[ -5.7 -14.2  -8.9   nan   1.    0.  -12. ]\n"
          ]
        }
      ]
    },
    {
      "cell_type": "code",
      "source": [
        "from pandas import read_csv\n",
        "from matplotlib import pyplot\n",
        "series = \"/content/drive/MyDrive/Colab Notebooks/разработка нейронных сетей/олимпиады 2.2/датасет23.xlsx\"\n",
        "series = pd.read_excel(file_path, header=0, index_col=0)\n",
        "series.hist()\n",
        "pyplot.show()"
      ],
      "metadata": {
        "colab": {
          "base_uri": "https://localhost:8080/",
          "height": 452
        },
        "id": "yoB2SsNP3Rk4",
        "outputId": "3883d15a-97bf-4fb3-c053-42be3fa62ad3"
      },
      "execution_count": 10,
      "outputs": [
        {
          "output_type": "display_data",
          "data": {
            "text/plain": [
              "<Figure size 640x480 with 9 Axes>"
            ],
            "image/png": "[encoded data removed]"
          },
          "metadata": {}
        }
      ]
    },
    {
      "cell_type": "code",
      "source": [
        "from pandas import read_excel\n",
        "from sklearn.preprocessing import StandardScaler\n",
        "from math import sqrt\n",
        "\n",
        "series = read_excel ('/content/drive/MyDrive/Colab Notebooks/разработка нейронных сетей/олимпиады 2.2/датасет23.xlsx', header=0, index_col=0)\n",
        "print(series.head())\n",
        "\n",
        "values = series.values\n",
        "desired_shape = (7000, 1)\n",
        "values = values[:1000]\n",
        "values = values.reshape(desired_shape)\n",
        "\n",
        "scaler = StandardScaler()\n",
        "scaler = scaler.fit(values)\n",
        "print('Mean: %f, StandardDeviation: %f' % (scaler.mean_, sqrt(scaler.var_)))\n",
        "\n",
        "normalized = scaler.transform(values)\n",
        "for i in range(5):\n",
        "  print(normalized[i])\n",
        "\n",
        "inversed = scaler.inverse_transform(normalized)\n",
        "for i in range(5):\n",
        "  print(inversed[i])\n",
        ""
      ],
      "metadata": {
        "colab": {
          "base_uri": "https://localhost:8080/"
        },
        "id": "8dyZgMIE3xIE",
        "outputId": "84c1184e-7dad-42d4-fda6-70711d9c2b42"
      },
      "execution_count": 11,
      "outputs": [
        {
          "output_type": "stream",
          "name": "stdout",
          "text": [
            "            макс температура  мин температура  средняя температура  \\\n",
            "Дата                                                                 \n",
            "2010-12-01               1.0             -4.9                 -1.5   \n",
            "2010-12-02               0.0             -5.4                 -2.1   \n",
            "2010-12-03              -2.3             -7.4                 -4.1   \n",
            "2010-12-04              -1.8             -8.0                 -4.6   \n",
            "2010-12-05              -5.7            -14.2                 -8.9   \n",
            "\n",
            "            атмосферное давление  скорость ветра  осадки  \\\n",
            "Дата                                                       \n",
            "2010-12-01                   NaN               5     0.0   \n",
            "2010-12-02                   NaN               2     1.0   \n",
            "2010-12-03                   NaN               1     5.0   \n",
            "2010-12-04                   NaN               0     0.0   \n",
            "2010-12-05                   NaN               1     0.0   \n",
            "\n",
            "            эффективная температура  \n",
            "Дата                                 \n",
            "2010-12-01                     -6.7  \n",
            "2010-12-02                     -5.2  \n",
            "2010-12-03                     -6.7  \n",
            "2010-12-04                     -6.7  \n",
            "2010-12-05                    -12.0  \n",
            "Mean: 14.352211, StandardDeviation: 88.960581\n",
            "[-0.15009132]\n",
            "[-0.21641283]\n",
            "[-0.17819366]\n",
            "[nan]\n",
            "[-0.10512759]\n",
            "[1.]\n",
            "[-4.9]\n",
            "[-1.5]\n",
            "[nan]\n",
            "[5.]\n"
          ]
        },
        {
          "output_type": "stream",
          "name": "stderr",
          "text": [
            "<ipython-input-11-4a8d32bc02d4>:15: DeprecationWarning: Conversion of an array with ndim > 0 to a scalar is deprecated, and will error in future. Ensure you extract a single element from your array before performing this operation. (Deprecated NumPy 1.25.)\n",
            "  print('Mean: %f, StandardDeviation: %f' % (scaler.mean_, sqrt(scaler.var_)))\n"
          ]
        }
      ]
    }
  ]
}
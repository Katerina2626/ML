{
  "cells": [
    {
      "cell_type": "markdown",
      "metadata": {
        "id": "view-in-github",
        "colab_type": "text"
      },
      "source": [
        "<a href=\"https://colab.research.google.com/github/Katerina2626/ML/blob/main/1_%D0%BF%D1%80%D0%B0%D0%BA%D1%82%D0%B8%D1%87%D0%B5%D1%81%D0%BA%D0%B0%D1%8F_ml.ipynb\" target=\"_parent\"><img src=\"https://colab.research.google.com/assets/colab-badge.svg\" alt=\"Open In Colab\"/></a>"
      ]
    },
    {
      "cell_type": "markdown",
      "metadata": {
        "id": "wBvdxHbpwH2g"
      },
      "source": [
        "# Практическая работа 1-1 Numpy\n",
        "\n",
        "1. Скачайте этот ноутбук к себе.\n",
        "2. Заполните пропущенные ячейки, отвечая на заданные вопросы. Там должен быть код! (если не сказано обратное)\n",
        "3. Сохраните результат в своём гитхаб репозитории.\n",
        "\n",
        "#### Полезная литература\n",
        "\n",
        "- http://www.numpy.org/\n",
        "- https://jakevdp.github.io/PythonDataScienceHandbook/02.00-introduction-to-numpy.html\n",
        "- https://docs.scipy.org/doc/numpy/user/quickstart.html"
      ]
    },
    {
      "cell_type": "markdown",
      "metadata": {
        "id": "IGxuUsl_wH2j"
      },
      "source": [
        "1) Импортировать numpy и написать версию"
      ]
    },
    {
      "cell_type": "code",
      "execution_count": null,
      "metadata": {
        "colab": {
          "base_uri": "https://localhost:8080/",
          "height": 56
        },
        "id": "dJacVe31wH2m",
        "outputId": "c0bd7e8a-d578-4373-965e-b90df6912095"
      },
      "outputs": [
        {
          "output_type": "execute_result",
          "data": {
            "text/plain": [
              "'1.23.5'"
            ],
            "application/vnd.google.colaboratory.intrinsic+json": {
              "type": "string"
            }
          },
          "metadata": {},
          "execution_count": 2
        }
      ],
      "source": [
        "import numpy\n",
        "numpy.__version__"
      ]
    },
    {
      "cell_type": "markdown",
      "metadata": {
        "id": "t9I8L4l7wH2n"
      },
      "source": [
        "2) Создать нулевой вектор размера 10"
      ]
    },
    {
      "cell_type": "code",
      "execution_count": null,
      "metadata": {
        "colab": {
          "base_uri": "https://localhost:8080/"
        },
        "id": "hHuy5Y6kwH2o",
        "outputId": "d899b96d-1f49-4bee-eb45-63a3cab49a8c"
      },
      "outputs": [
        {
          "output_type": "execute_result",
          "data": {
            "text/plain": [
              "array([0., 0., 0., 0., 0., 0., 0., 0., 0., 0.])"
            ]
          },
          "metadata": {},
          "execution_count": 3
        }
      ],
      "source": [
        "import numpy as np\n",
        "x=np.zeros(10)\n",
        "x"
      ]
    },
    {
      "cell_type": "markdown",
      "metadata": {
        "id": "FSihFobjwH2o"
      },
      "source": [
        "3) Создать вектор заполненный 7-ами размера 7"
      ]
    },
    {
      "cell_type": "code",
      "execution_count": null,
      "metadata": {
        "id": "-8PbLb3swH2p",
        "colab": {
          "base_uri": "https://localhost:8080/"
        },
        "outputId": "cd7f90c3-b857-4c61-f689-e5e0a25d7811"
      },
      "outputs": [
        {
          "output_type": "execute_result",
          "data": {
            "text/plain": [
              "array([[7, 7, 7, 7, 7, 7, 7]])"
            ]
          },
          "metadata": {},
          "execution_count": 10
        }
      ],
      "source": [
        "np.full((1, 7), 7)"
      ]
    },
    {
      "cell_type": "markdown",
      "metadata": {
        "id": "Dr9VRgKwwH2q"
      },
      "source": [
        "4) Создать вектор заполненный четными числами от 10 до 100"
      ]
    },
    {
      "cell_type": "code",
      "execution_count": null,
      "metadata": {
        "id": "b-5qtErTwH2q",
        "colab": {
          "base_uri": "https://localhost:8080/"
        },
        "outputId": "c36bb5fb-5dea-4436-e9a0-4bb897d4ce22"
      },
      "outputs": [
        {
          "output_type": "execute_result",
          "data": {
            "text/plain": [
              "array([ 10,  12,  14,  16,  18,  20,  22,  24,  26,  28,  30,  32,  34,\n",
              "        36,  38,  40,  42,  44,  46,  48,  50,  52,  54,  56,  58,  60,\n",
              "        62,  64,  66,  68,  70,  72,  74,  76,  78,  80,  82,  84,  86,\n",
              "        88,  90,  92,  94,  96,  98, 100])"
            ]
          },
          "metadata": {},
          "execution_count": 5
        }
      ],
      "source": [
        "np.arange(10, 101, 2)"
      ]
    },
    {
      "cell_type": "markdown",
      "metadata": {
        "id": "rAjkR4XUwH2s"
      },
      "source": [
        "5) Создать массив случайных чисел и развернуть его задом наперёд"
      ]
    },
    {
      "cell_type": "code",
      "execution_count": null,
      "metadata": {
        "id": "K-gG91lmwH2t",
        "colab": {
          "base_uri": "https://localhost:8080/"
        },
        "outputId": "859a2f3f-a41a-46f1-de23-3890f272c023"
      },
      "outputs": [
        {
          "output_type": "stream",
          "name": "stdout",
          "text": [
            "[[8 5 0]\n",
            " [7 7 0]]\n",
            "[[7 7 0]\n",
            " [8 5 0]]\n"
          ]
        }
      ],
      "source": [
        "ar=np.random.randint(0, 10, (2,3))\n",
        "#print(ar)\n",
        "print(ar[::-1])"
      ]
    },
    {
      "cell_type": "markdown",
      "metadata": {
        "id": "YVwH-7WjwH2t"
      },
      "source": [
        "6) Создать двумерную матрицу размера 3 на 3, заполненную числами от 0 до 9 (от 0 до 9, это 10 цифр, в 9 позиций они не встанут)"
      ]
    },
    {
      "cell_type": "code",
      "execution_count": null,
      "metadata": {
        "id": "0pXLUYpdwH2u",
        "colab": {
          "base_uri": "https://localhost:8080/"
        },
        "outputId": "c89e23af-2b0f-4756-a444-8cd964daf3d4"
      },
      "outputs": [
        {
          "output_type": "execute_result",
          "data": {
            "text/plain": [
              "array([[0, 1, 2],\n",
              "       [3, 4, 5],\n",
              "       [6, 7, 8]])"
            ]
          },
          "metadata": {},
          "execution_count": 13
        }
      ],
      "source": [
        "np.array([range(i, i + 3) for i in [0, 3, 6]])"
      ]
    },
    {
      "cell_type": "markdown",
      "metadata": {
        "id": "6aYFTAEywH2w"
      },
      "source": [
        "7) Создать матрицу размера 4 на 4 с единицами на диагонали смещеной на один наверх."
      ]
    },
    {
      "cell_type": "code",
      "execution_count": null,
      "metadata": {
        "id": "CXiXSKb_wH2x",
        "colab": {
          "base_uri": "https://localhost:8080/"
        },
        "outputId": "9f156000-9e78-4a8f-d9c9-fc09ceaa2e5c"
      },
      "outputs": [
        {
          "output_type": "stream",
          "name": "stdout",
          "text": [
            "[[1. 0. 0. 0.]\n",
            " [0. 1. 0. 0.]\n",
            " [0. 0. 1. 0.]\n",
            " [0. 0. 0. 1.]]\n"
          ]
        }
      ],
      "source": [
        "import numpy as np\n",
        "n = 4\n",
        "b = np.zeros((n,n))\n",
        "k=0\n",
        "for i in range(4):\n",
        "  for j in range(4):\n",
        "    if j==k:\n",
        "      b[i][j]=1\n",
        "  k+=1\n",
        "print(b)"
      ]
    },
    {
      "cell_type": "markdown",
      "metadata": {
        "id": "UaTaNn9vwH2y"
      },
      "source": [
        "8) Создать матрицу с числами в диапазоне от 1 до 4 по диагонали. В других ячейках матрицы должны быть семерки."
      ]
    },
    {
      "cell_type": "code",
      "execution_count": null,
      "metadata": {
        "id": "MjNlNhWYwH2z",
        "colab": {
          "base_uri": "https://localhost:8080/"
        },
        "outputId": "8b1e0bb8-3826-4344-dcdb-9ba3147183ac"
      },
      "outputs": [
        {
          "output_type": "stream",
          "name": "stdout",
          "text": [
            "[[1 7 7 7]\n",
            " [7 2 7 7]\n",
            " [7 7 3 7]\n",
            " [7 7 7 4]]\n"
          ]
        }
      ],
      "source": [
        "import numpy as np\n",
        "n = 4\n",
        "b=np.full((4,4), 7)\n",
        "k=0\n",
        "for i in range(4):\n",
        "  for j in range(4):\n",
        "    if j==k:\n",
        "      b[i][j]=k+1\n",
        "  k+=1\n",
        "print(b)"
      ]
    },
    {
      "cell_type": "markdown",
      "metadata": {
        "id": "UPMZeWyOwH20"
      },
      "source": [
        "9) Создать матрицу размера 5 на 5 заполненную чилами от 0 до 4 в строках."
      ]
    },
    {
      "cell_type": "code",
      "execution_count": null,
      "metadata": {
        "id": "FibD9GfhwH21",
        "colab": {
          "base_uri": "https://localhost:8080/"
        },
        "outputId": "3d4b4359-685c-4136-c7a5-9a30db1362d1"
      },
      "outputs": [
        {
          "output_type": "execute_result",
          "data": {
            "text/plain": [
              "array([[0, 1, 2, 3, 4],\n",
              "       [0, 1, 2, 3, 4],\n",
              "       [0, 1, 2, 3, 4],\n",
              "       [0, 1, 2, 3, 4],\n",
              "       [0, 1, 2, 3, 4]])"
            ]
          },
          "metadata": {},
          "execution_count": 23
        }
      ],
      "source": [
        "np.array([range(i, i + 5) for i in [0, 0,0,0,0]])"
      ]
    },
    {
      "cell_type": "markdown",
      "metadata": {
        "id": "W-g6nAVUwH21"
      },
      "source": [
        "10) Создать матрицу случайных чисел размера 10 на 10 и отнять среднее по строкам из каждого элемента строки"
      ]
    },
    {
      "cell_type": "code",
      "execution_count": null,
      "metadata": {
        "id": "W0WrhV1RwH22",
        "colab": {
          "base_uri": "https://localhost:8080/"
        },
        "outputId": "a2ce30a4-aac7-4e66-85c5-98d9ef907c2c"
      },
      "outputs": [
        {
          "output_type": "stream",
          "name": "stdout",
          "text": [
            "[[5 2 4 8 2 4 4 2 2 3]\n",
            " [0 3 5 6 0 9 4 2 7 3]\n",
            " [9 5 7 4 7 0 0 7 4 3]\n",
            " [0 3 5 8 1 3 5 2 3 5]\n",
            " [8 2 9 2 7 4 5 7 0 2]\n",
            " [3 3 2 0 3 6 4 5 8 7]\n",
            " [3 2 3 0 0 9 8 6 6 4]\n",
            " [9 7 9 1 6 6 0 5 1 6]\n",
            " [3 5 0 8 8 0 7 0 0 2]\n",
            " [3 5 1 7 7 0 6 7 7 4]]\n",
            "[[ 2 -1  1  5 -1  1  1 -1 -1  0]\n",
            " [-3  0  2  3 -3  6  1 -1  4  0]\n",
            " [ 5  1  3  0  3 -4 -4  3  0 -1]\n",
            " [-3  0  2  5 -2  0  2 -1  0  2]\n",
            " [ 4 -2  5 -2  3  0  1  3 -4 -2]\n",
            " [-1 -1 -2 -4 -1  2  0  1  4  3]\n",
            " [-1 -2 -1 -4 -4  5  4  2  2  0]\n",
            " [ 4  2  4 -4  1  1 -5  0 -4  1]\n",
            " [ 0  2 -3  5  5 -3  4 -3 -3 -1]\n",
            " [-1  1 -3  3  3 -4  2  3  3  0]]\n"
          ]
        }
      ],
      "source": [
        "from statistics import mean\n",
        "ar=np.random.randint(0, 10, (10,10))\n",
        "print(ar)\n",
        "for i in range(10):\n",
        "  sr=mean(ar[i])\n",
        "  for j in range(10):\n",
        "    ar[i][j]-=sr\n",
        "print(ar)"
      ]
    },
    {
      "cell_type": "markdown",
      "metadata": {
        "id": "HRmPLjVbwH23"
      },
      "source": [
        "11) Создать матрицу случайных чисел размера 10 на 10 и отнять медиану по столбцам из каждого элемента столбца  "
      ]
    },
    {
      "cell_type": "code",
      "execution_count": null,
      "metadata": {
        "id": "rqHQ6vUnwH24",
        "colab": {
          "base_uri": "https://localhost:8080/"
        },
        "outputId": "92fd0be8-3d8c-49b4-9d9b-4157dd779c2d"
      },
      "outputs": [
        {
          "output_type": "stream",
          "name": "stdout",
          "text": [
            "[[5 8 0 7 1 1 4 4 7 5]\n",
            " [2 4 3 8 0 3 0 7 7 7]\n",
            " [5 9 0 9 0 1 3 1 0 9]\n",
            " [7 7 1 8 2 6 5 8 8 1]\n",
            " [8 6 2 1 2 3 0 4 4 7]\n",
            " [9 8 1 6 4 2 5 6 2 5]\n",
            " [6 1 2 1 5 6 0 1 5 6]\n",
            " [1 2 3 8 0 5 5 5 5 7]\n",
            " [9 1 7 5 9 3 8 5 2 8]\n",
            " [7 5 1 8 1 7 8 6 1 6]]\n",
            " \n",
            "[[-3  1 -1  3 -2 -1  1 -1  4 -1]\n",
            " [-6 -3  1  4 -3  0 -2  2  4  1]\n",
            " [-3  2 -1  5 -3 -1  0 -4 -3  3]\n",
            " [-1  0  0  4 -1  3  2  3  5 -5]\n",
            " [ 0 -1  0 -2 -1  0 -2 -1  1  1]\n",
            " [ 0  1  0  2  1  0  2  1 -1 -1]\n",
            " [-2 -6  0 -2  2  3 -2 -4  2  0]\n",
            " [-7 -5  1  4 -3  2  2  0  2  1]\n",
            " [ 0 -6  5  1  6  0  5  0 -1  2]\n",
            " [-1 -2  0  4 -2  4  5  1 -2  0]]\n"
          ]
        }
      ],
      "source": [
        "from statistics import *\n",
        "ar=np.random.randint(0, 10, (10,10))\n",
        "print(ar)\n",
        "print(\" \")\n",
        "for i in range(10):\n",
        "  med=median([ar[4][i],ar[5][i]])\n",
        "  for j in range(10):\n",
        "    ar[j][i]-=med\n",
        "print(ar)"
      ]
    },
    {
      "cell_type": "markdown",
      "metadata": {
        "id": "AbSdcm3QwH25"
      },
      "source": [
        "12) Создать матрицу случайных чисел 5x5. Добавить к ней столбецы максимумов и минимумов по строкам. Получится матрица 5x7.  "
      ]
    },
    {
      "cell_type": "code",
      "execution_count": null,
      "metadata": {
        "id": "EFSOMgNjwH26",
        "colab": {
          "base_uri": "https://localhost:8080/"
        },
        "outputId": "8ffe1318-d29f-4584-8af9-c8c7b8da1ef0"
      },
      "outputs": [
        {
          "output_type": "stream",
          "name": "stdout",
          "text": [
            "[[2 5 0 8 6]\n",
            " [9 2 1 9 4]\n",
            " [8 0 7 0 1]\n",
            " [5 3 7 3 7]\n",
            " [0 4 3 0 2]]\n",
            "[[2. 5. 0. 8. 6. 0. 0.]\n",
            " [9. 2. 1. 9. 4. 0. 0.]\n",
            " [8. 0. 7. 0. 1. 0. 0.]\n",
            " [5. 3. 7. 3. 7. 0. 0.]\n",
            " [0. 4. 3. 0. 2. 0. 0.]]\n"
          ]
        }
      ],
      "source": [
        "\"\"\"from random import *\n",
        "ar=np.random.randint(0, 10, (5,5))\n",
        "mn=[]\n",
        "mx=[]\n",
        "print(ar)\n",
        "for i in range(5):\n",
        "  mn.append(min(ar[i]))\n",
        "  mx.append(max(ar[i]))\n",
        "new=np.zeros((5,2))\n",
        "ar=np.append(ar,new,axis=1)\n",
        "\n",
        "print(ar)\n",
        "\"\"\""
      ]
    },
    {
      "cell_type": "code",
      "source": [
        "# Создаем матрицу случайных чисел 5x5\n",
        "ar = np.random.randint(0, 10, (5, 5))\n",
        "\n",
        "# Создаем массивы для минимумов и максимумов по строкам\n",
        "mn = np.min(ar, axis=1)\n",
        "mx = np.max(ar, axis=1)\n",
        "\n",
        "# Объединяем матрицу с массивами минимумов и максимумов\n",
        "new_matrix = np.column_stack((ar, mn, mx))\n",
        "\n",
        "print(new_matrix)"
      ],
      "metadata": {
        "colab": {
          "base_uri": "https://localhost:8080/"
        },
        "id": "zMNRz1lidYRe",
        "outputId": "250785f5-b947-4a15-9fb8-cc91255c92a5"
      },
      "execution_count": null,
      "outputs": [
        {
          "output_type": "stream",
          "name": "stdout",
          "text": [
            "[[6 9 1 3 7 1 9]\n",
            " [6 4 2 9 6 2 9]\n",
            " [7 2 1 6 6 1 7]\n",
            " [8 3 8 1 8 1 8]\n",
            " [0 1 6 4 0 0 6]]\n"
          ]
        }
      ]
    },
    {
      "cell_type": "markdown",
      "metadata": {
        "id": "TaM6DeO8wH26"
      },
      "source": [
        "13) Вектор чисел от 1 до 51 преобразовать в вектор нечетных чисел и в вектор четных чисел, поменять их размерности, чтобы получились две матрица. Найти произведение этих матриц. Найти обратную матрицу этого произведения.  "
      ]
    },
    {
      "cell_type": "code",
      "execution_count": null,
      "metadata": {
        "id": "Rvf8GS4nwH27",
        "colab": {
          "base_uri": "https://localhost:8080/"
        },
        "outputId": "ead9fcdb-4453-498d-8c59-07271c86ca16"
      },
      "outputs": [
        {
          "output_type": "stream",
          "name": "stdout",
          "text": [
            "[ 1  2  3  4  5  6  7  8  9 10 11 12 13 14 15 16 17 18 19 20 21 22 23 24\n",
            " 25 26 27 28 29 30 31 32 33 34 35 36 37 38 39 40 41 42 43 44 45 46 47 48\n",
            " 49 50]\n",
            "[[ 830  890  950 1010 1070]\n",
            " [1880 2040 2200 2360 2520]\n",
            " [2930 3190 3450 3710 3970]\n",
            " [3980 4340 4700 5060 5420]\n",
            " [5030 5490 5950 6410 6870]]\n",
            "[[[ 830]\n",
            "  [1880]\n",
            "  [2930]\n",
            "  [3980]\n",
            "  [5030]]\n",
            "\n",
            " [[ 890]\n",
            "  [2040]\n",
            "  [3190]\n",
            "  [4340]\n",
            "  [5490]]\n",
            "\n",
            " [[ 950]\n",
            "  [2200]\n",
            "  [3450]\n",
            "  [4700]\n",
            "  [5950]]\n",
            "\n",
            " [[1010]\n",
            "  [2360]\n",
            "  [3710]\n",
            "  [5060]\n",
            "  [6410]]\n",
            "\n",
            " [[1070]\n",
            "  [2520]\n",
            "  [3970]\n",
            "  [5420]\n",
            "  [6870]]]\n"
          ]
        }
      ],
      "source": [
        "ar=np.arange(1,51)\n",
        "print(ar)\n",
        "ch=ar[ar%2==0]\n",
        "nch=ar[ar%2!=0]\n",
        "ch=ch.reshape(5, 5)\n",
        "nch=nch.reshape(5,5)\n",
        "#print(ch)\n",
        "#print(nch)\n",
        "new = np.dot(ch, nch)\n",
        "print(new)\n",
        "#obr= np.linalg.inv(new) # я не знаю что не так, меня опять послали гуглить, гугл тоже не в курсе что он хочет :(\n",
        "new2=np.array([new]).T\n",
        "#print(np.linalg.inv(new))\n",
        "#new2=new.T()\n",
        "print(new2)"
      ]
    },
    {
      "cell_type": "markdown",
      "metadata": {
        "id": "mtSkNlxgwH27"
      },
      "source": [
        "14) Создать 8x8 матрицу и заполнить её в шахматном порядке нулями и единицами."
      ]
    },
    {
      "cell_type": "code",
      "execution_count": null,
      "metadata": {
        "id": "aj_dtg0FwH27",
        "colab": {
          "base_uri": "https://localhost:8080/"
        },
        "outputId": "0720d684-5f91-49e7-d6e2-8446c8d57574"
      },
      "outputs": [
        {
          "output_type": "stream",
          "name": "stdout",
          "text": [
            "[[0 0 0 0 0 0 0 0]\n",
            " [1 0 1 0 1 0 1 0]\n",
            " [0 0 0 0 0 0 0 0]\n",
            " [1 0 1 0 1 0 1 0]\n",
            " [0 0 0 0 0 0 0 0]\n",
            " [1 0 1 0 1 0 1 0]\n",
            " [0 0 0 0 0 0 0 0]\n",
            " [1 0 1 0 1 0 1 0]]\n",
            "[[0 1 0 1 0 1 0 1]\n",
            " [1 0 1 0 1 0 1 0]\n",
            " [0 1 0 1 0 1 0 1]\n",
            " [1 0 1 0 1 0 1 0]\n",
            " [0 1 0 1 0 1 0 1]\n",
            " [1 0 1 0 1 0 1 0]\n",
            " [0 1 0 1 0 1 0 1]\n",
            " [1 0 1 0 1 0 1 0]]\n"
          ]
        }
      ],
      "source": [
        "# создаем матрицу 8х8 заполненную нулями\n",
        "ar = np.zeros((8, 8), dtype=int)\n",
        "# используем срезы, чтобы заполнить каждую вторую строку и столбец нулями\n",
        "ar[1::2, ::2] = 1\n",
        "#print(ar)\n",
        "ar[::2, 1::2] = 1\n",
        "\n",
        "print(ar)"
      ]
    },
    {
      "cell_type": "code",
      "source": [],
      "metadata": {
        "id": "tGnIbQaBeNB2"
      },
      "execution_count": null,
      "outputs": []
    }
  ],
  "metadata": {
    "kernelspec": {
      "display_name": "Python 3",
      "language": "python",
      "name": "python3"
    },
    "language_info": {
      "codemirror_mode": {
        "name": "ipython",
        "version": 3
      },
      "file_extension": ".py",
      "mimetype": "text/x-python",
      "name": "python",
      "nbconvert_exporter": "python",
      "pygments_lexer": "ipython3",
      "version": "3.8.0"
    },
    "colab": {
      "provenance": [],
      "include_colab_link": true
    }
  },
  "nbformat": 4,
  "nbformat_minor": 0
}
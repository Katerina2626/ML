{
  "metadata": {
    "kernelspec": {
      "language": "python",
      "display_name": "Python 3",
      "name": "python3"
    },
    "language_info": {
      "name": "python",
      "version": "3.7.9",
      "mimetype": "text/x-python",
      "codemirror_mode": {
        "name": "ipython",
        "version": 3
      },
      "pygments_lexer": "ipython3",
      "nbconvert_exporter": "python",
      "file_extension": ".py"
    },
    "kaggle": {
      "accelerator": "gpu",
      "dataSources": [
        {
          "sourceId": 25949,
          "databundleVersionId": 1994327,
          "sourceType": "competition"
        }
      ],
      "dockerImageVersionId": 30066,
      "isInternetEnabled": false,
      "language": "python",
      "sourceType": "notebook",
      "isGpuEnabled": true
    },
    "colab": {
      "provenance": [],
      "include_colab_link": true
    }
  },
  "nbformat_minor": 0,
  "nbformat": 4,
  "cells": [
    {
      "cell_type": "markdown",
      "metadata": {
        "id": "view-in-github",
        "colab_type": "text"
      },
      "source": [
        "<a href=\"https://colab.research.google.com/github/Katerina2626/ML/blob/main/base_line_5_2_posl_ver_itog.ipynb\" target=\"_parent\"><img src=\"https://colab.research.google.com/assets/colab-badge.svg\" alt=\"Open In Colab\"/></a>"
      ]
    },
    {
      "cell_type": "markdown",
      "source": [
        "## Определение тональности текстов отзывов на сайте [YELP](https://www.yelp.com/dataset) одномерной сверточной нейросетью\n",
        "\n",
        "Учебный курс \"[Программирование глубоких нейронных сетей на Python](https://openedu.ru/course/urfu/PYDNN/)\".\n"
      ],
      "metadata": {
        "id": "5kfBXScdqbXh"
      }
    },
    {
      "cell_type": "code",
      "source": [
        "from tensorflow.keras.models import Sequential\n",
        "from tensorflow.keras.layers import Dense, Embedding, MaxPooling1D, Conv1D, GlobalMaxPooling1D, Dropout\n",
        "from tensorflow.keras import utils\n",
        "from tensorflow.keras.preprocessing.sequence import pad_sequences\n",
        "from tensorflow.keras.preprocessing.text import Tokenizer\n",
        "from tensorflow.keras.callbacks import ModelCheckpoint\n",
        "import pandas as pd\n",
        "import numpy as np\n",
        "import matplotlib.pyplot as plt\n",
        "%matplotlib inline\n",
        "import os\n",
        "for dirname, _, filenames in os.walk('/kaggle/input'):\n",
        "    for filename in filenames:\n",
        "        print(os.path.join(dirname, filename))"
      ],
      "metadata": {
        "_uuid": "8f2839f25d086af736a60e9eeb907d3b93b6e0e5",
        "_cell_guid": "b1076dfc-b9ad-4769-8c92-a6c4dae69d19",
        "execution": {
          "iopub.status.busy": "2024-03-04T06:36:00.176175Z",
          "iopub.execute_input": "2024-03-04T06:36:00.176748Z",
          "iopub.status.idle": "2024-03-04T06:36:00.209193Z",
          "shell.execute_reply.started": "2024-03-04T06:36:00.176701Z",
          "shell.execute_reply": "2024-03-04T06:36:00.208139Z"
        },
        "trusted": true,
        "id": "2UtSDxV3qbXn",
        "outputId": "adcd43d1-3c74-48b7-a5d7-3135ed639d97"
      },
      "execution_count": null,
      "outputs": [
        {
          "name": "stdout",
          "text": "/kaggle/input/dl-urfu-yelp/sample_submission.csv\n/kaggle/input/dl-urfu-yelp/train.csv\n/kaggle/input/dl-urfu-yelp/test.csv\n/kaggle/input/dl-urfu-yelp/train_label.csv\n",
          "output_type": "stream"
        }
      ]
    },
    {
      "cell_type": "markdown",
      "source": [
        "Загружаем данные"
      ],
      "metadata": {
        "id": "RWNLal5RqbXr"
      }
    },
    {
      "cell_type": "code",
      "source": [
        "KAGGLE_PATH = '/kaggle/input/dl-urfu-yelp/'\n",
        "x_train = pd.read_csv(KAGGLE_PATH + 'train.csv')\n",
        "y_train = pd.read_csv(KAGGLE_PATH + 'train_label.csv', index_col=0)\n",
        "x_test = pd.read_csv(KAGGLE_PATH + 'test.csv')\n",
        "x_train.shape, y_train.shape, x_test.shape,"
      ],
      "metadata": {
        "_uuid": "d629ff2d2480ee46fbb7e2d37f6b5fab8052498a",
        "_cell_guid": "79c7e3d0-c299-4dcb-8224-4455121ee9b0",
        "execution": {
          "iopub.status.busy": "2024-03-04T06:36:00.212222Z",
          "iopub.execute_input": "2024-03-04T06:36:00.212859Z",
          "iopub.status.idle": "2024-03-04T06:36:05.441620Z",
          "shell.execute_reply.started": "2024-03-04T06:36:00.212804Z",
          "shell.execute_reply": "2024-03-04T06:36:05.440307Z"
        },
        "trusted": true,
        "id": "BtWQVLpEqbXr",
        "outputId": "2bd6e3da-5f8a-41c7-d8ac-35f6d66793a7"
      },
      "execution_count": null,
      "outputs": [
        {
          "execution_count": 13,
          "output_type": "execute_result",
          "data": {
            "text/plain": "((560000, 1), (560000, 1), (4000, 1))"
          },
          "metadata": {}
        }
      ]
    },
    {
      "cell_type": "markdown",
      "source": [
        "## Подготовка данных для обучения"
      ],
      "metadata": {
        "id": "ARoNSMc7qbXs"
      }
    },
    {
      "cell_type": "markdown",
      "source": [
        "### Токенизация текста"
      ],
      "metadata": {
        "id": "2TPqFJlvqbXt"
      }
    },
    {
      "cell_type": "code",
      "source": [
        "# извлекаем столбец с текстом\n",
        "x_train = x_train.Review\n",
        "x_test = x_test.Review"
      ],
      "metadata": {
        "execution": {
          "iopub.status.busy": "2024-03-04T06:36:05.443198Z",
          "iopub.execute_input": "2024-03-04T06:36:05.443590Z",
          "iopub.status.idle": "2024-03-04T06:36:05.449526Z",
          "shell.execute_reply.started": "2024-03-04T06:36:05.443523Z",
          "shell.execute_reply": "2024-03-04T06:36:05.447629Z"
        },
        "trusted": true,
        "id": "ZVoLiIINqbXu"
      },
      "execution_count": null,
      "outputs": []
    },
    {
      "cell_type": "code",
      "source": [
        "# указываем длину словаря, который мы будем использовать\n",
        "num_words = 10000\n",
        "# указываем длину последовательности, к которой приведем все тексты\n",
        "max_review_len = 50\n",
        "# создаем и обучаем токенизатор на тернировочных данных\n",
        "tokenizer = Tokenizer(num_words=num_words)\n",
        "tokenizer.fit_on_texts(x_train)\n",
        "# применяем токенизатор к тренировочным и тестовым данным\n",
        "x_train = tokenizer.texts_to_sequences(x_train)\n",
        "x_test = tokenizer.texts_to_sequences(x_test)\n",
        "# приводим все вектора текстов к общей длине\n",
        "x_train = pad_sequences(x_train, maxlen=max_review_len, padding='post')\n",
        "x_test = pad_sequences(x_test, maxlen=max_review_len, padding='post')"
      ],
      "metadata": {
        "execution": {
          "iopub.status.busy": "2024-03-04T06:36:05.451593Z",
          "iopub.execute_input": "2024-03-04T06:36:05.452319Z",
          "iopub.status.idle": "2024-03-04T06:38:47.908112Z",
          "shell.execute_reply.started": "2024-03-04T06:36:05.452261Z",
          "shell.execute_reply": "2024-03-04T06:38:47.907032Z"
        },
        "trusted": true,
        "id": "Z8mP2p-eqbXv"
      },
      "execution_count": null,
      "outputs": []
    },
    {
      "cell_type": "markdown",
      "source": [
        "## Создание нейронной сети"
      ],
      "metadata": {
        "id": "CJroMCQiqbXw"
      }
    },
    {
      "cell_type": "code",
      "source": [
        "model = Sequential()\n",
        "model.add(Embedding(num_words, 30, input_length=max_review_len))\n",
        "model.add(Conv1D(64, 5, padding='valid', activation='relu'))\n",
        "model.add(GlobalMaxPooling1D())\n",
        "model.add(Dense(64, activation='relu'))\n",
        "model.add(Dropout(0.2))\n",
        "model.add(Dense(1, activation='sigmoid'))"
      ],
      "metadata": {
        "execution": {
          "iopub.status.busy": "2024-03-04T06:38:47.911195Z",
          "iopub.execute_input": "2024-03-04T06:38:47.911913Z",
          "iopub.status.idle": "2024-03-04T06:38:47.971649Z",
          "shell.execute_reply.started": "2024-03-04T06:38:47.911861Z",
          "shell.execute_reply": "2024-03-04T06:38:47.970740Z"
        },
        "trusted": true,
        "id": "I44y3unTqbXw"
      },
      "execution_count": null,
      "outputs": []
    },
    {
      "cell_type": "code",
      "source": [
        "model.compile(optimizer='sgd',\n",
        "              loss='binary_crossentropy',\n",
        "              metrics=['accuracy'])"
      ],
      "metadata": {
        "execution": {
          "iopub.status.busy": "2024-03-04T06:38:47.973389Z",
          "iopub.execute_input": "2024-03-04T06:38:47.974080Z",
          "iopub.status.idle": "2024-03-04T06:38:47.989306Z",
          "shell.execute_reply.started": "2024-03-04T06:38:47.974026Z",
          "shell.execute_reply": "2024-03-04T06:38:47.987707Z"
        },
        "trusted": true,
        "id": "Dr7ORfwGqbXx"
      },
      "execution_count": null,
      "outputs": []
    },
    {
      "cell_type": "markdown",
      "source": [
        "## Обучаем нейронную сеть"
      ],
      "metadata": {
        "id": "JM8zOZFTqbXy"
      }
    },
    {
      "cell_type": "code",
      "source": [
        "history = model.fit(x_train,\n",
        "                    y_train,\n",
        "                    epochs=40,\n",
        "                    batch_size=64,\n",
        "                    validation_split=0.1)"
      ],
      "metadata": {
        "execution": {
          "iopub.status.busy": "2024-03-04T06:38:47.991832Z",
          "iopub.execute_input": "2024-03-04T06:38:47.992385Z",
          "iopub.status.idle": "2024-03-04T07:27:53.585937Z",
          "shell.execute_reply.started": "2024-03-04T06:38:47.992333Z",
          "shell.execute_reply": "2024-03-04T07:27:53.584739Z"
        },
        "trusted": true,
        "id": "5o2niCPmqbXy",
        "outputId": "354b39ae-f6c3-4350-fcd7-c7415e4c5a65"
      },
      "execution_count": null,
      "outputs": [
        {
          "name": "stdout",
          "text": "Epoch 1/40\n7875/7875 [==============================] - 74s 9ms/step - loss: 0.6917 - accuracy: 0.5265 - val_loss: 0.6660 - val_accuracy: 0.6256\nEpoch 2/40\n7875/7875 [==============================] - 73s 9ms/step - loss: 0.6305 - accuracy: 0.6536 - val_loss: 0.4333 - val_accuracy: 0.8044\nEpoch 3/40\n7875/7875 [==============================] - 73s 9ms/step - loss: 0.4220 - accuracy: 0.8065 - val_loss: 0.2887 - val_accuracy: 0.8787\nEpoch 4/40\n7875/7875 [==============================] - 73s 9ms/step - loss: 0.3204 - accuracy: 0.8620 - val_loss: 0.2478 - val_accuracy: 0.8977\nEpoch 5/40\n7875/7875 [==============================] - 73s 9ms/step - loss: 0.2864 - accuracy: 0.8800 - val_loss: 0.2269 - val_accuracy: 0.9071\nEpoch 6/40\n7875/7875 [==============================] - 73s 9ms/step - loss: 0.2641 - accuracy: 0.8910 - val_loss: 0.2173 - val_accuracy: 0.9116\nEpoch 7/40\n7875/7875 [==============================] - 72s 9ms/step - loss: 0.2489 - accuracy: 0.8980 - val_loss: 0.2059 - val_accuracy: 0.9162\nEpoch 8/40\n7875/7875 [==============================] - 73s 9ms/step - loss: 0.2392 - accuracy: 0.9028 - val_loss: 0.2096 - val_accuracy: 0.9142\nEpoch 9/40\n7875/7875 [==============================] - 73s 9ms/step - loss: 0.2294 - accuracy: 0.9073 - val_loss: 0.1985 - val_accuracy: 0.9196\nEpoch 10/40\n7875/7875 [==============================] - 73s 9ms/step - loss: 0.2217 - accuracy: 0.9110 - val_loss: 0.1952 - val_accuracy: 0.9208\nEpoch 11/40\n7875/7875 [==============================] - 73s 9ms/step - loss: 0.2140 - accuracy: 0.9144 - val_loss: 0.1961 - val_accuracy: 0.9198\nEpoch 12/40\n7875/7875 [==============================] - 73s 9ms/step - loss: 0.2083 - accuracy: 0.9177 - val_loss: 0.1909 - val_accuracy: 0.9228\nEpoch 13/40\n7875/7875 [==============================] - 73s 9ms/step - loss: 0.2027 - accuracy: 0.9200 - val_loss: 0.1897 - val_accuracy: 0.9237\nEpoch 14/40\n7875/7875 [==============================] - 73s 9ms/step - loss: 0.1983 - accuracy: 0.9224 - val_loss: 0.1920 - val_accuracy: 0.9227\nEpoch 15/40\n7875/7875 [==============================] - 73s 9ms/step - loss: 0.1930 - accuracy: 0.9250 - val_loss: 0.1871 - val_accuracy: 0.9250\nEpoch 16/40\n7875/7875 [==============================] - 73s 9ms/step - loss: 0.1882 - accuracy: 0.9274 - val_loss: 0.1865 - val_accuracy: 0.9248\nEpoch 17/40\n7875/7875 [==============================] - 73s 9ms/step - loss: 0.1857 - accuracy: 0.9281 - val_loss: 0.1851 - val_accuracy: 0.9258\nEpoch 18/40\n7875/7875 [==============================] - 73s 9ms/step - loss: 0.1796 - accuracy: 0.9313 - val_loss: 0.1854 - val_accuracy: 0.9255\nEpoch 19/40\n7875/7875 [==============================] - 73s 9ms/step - loss: 0.1750 - accuracy: 0.9335 - val_loss: 0.1854 - val_accuracy: 0.9267\nEpoch 20/40\n7875/7875 [==============================] - 73s 9ms/step - loss: 0.1707 - accuracy: 0.9357 - val_loss: 0.2019 - val_accuracy: 0.9200\nEpoch 21/40\n7875/7875 [==============================] - 74s 9ms/step - loss: 0.1685 - accuracy: 0.9368 - val_loss: 0.1867 - val_accuracy: 0.9262\nEpoch 22/40\n7875/7875 [==============================] - 75s 9ms/step - loss: 0.1624 - accuracy: 0.9389 - val_loss: 0.1907 - val_accuracy: 0.9240\nEpoch 23/40\n7875/7875 [==============================] - 75s 9ms/step - loss: 0.1598 - accuracy: 0.9409 - val_loss: 0.1866 - val_accuracy: 0.9268\nEpoch 24/40\n7875/7875 [==============================] - 74s 9ms/step - loss: 0.1575 - accuracy: 0.9415 - val_loss: 0.1916 - val_accuracy: 0.9265\nEpoch 25/40\n7875/7875 [==============================] - 74s 9ms/step - loss: 0.1533 - accuracy: 0.9439 - val_loss: 0.1911 - val_accuracy: 0.9255\nEpoch 26/40\n7875/7875 [==============================] - 73s 9ms/step - loss: 0.1486 - accuracy: 0.9459 - val_loss: 0.1892 - val_accuracy: 0.9264\nEpoch 27/40\n7875/7875 [==============================] - 74s 9ms/step - loss: 0.1450 - accuracy: 0.9471 - val_loss: 0.1947 - val_accuracy: 0.9244\nEpoch 28/40\n7875/7875 [==============================] - 74s 9ms/step - loss: 0.1400 - accuracy: 0.9496 - val_loss: 0.2053 - val_accuracy: 0.9206\nEpoch 29/40\n7875/7875 [==============================] - 74s 9ms/step - loss: 0.1378 - accuracy: 0.9502 - val_loss: 0.2063 - val_accuracy: 0.9213\nEpoch 30/40\n7875/7875 [==============================] - 74s 9ms/step - loss: 0.1348 - accuracy: 0.9523 - val_loss: 0.1996 - val_accuracy: 0.9256\nEpoch 31/40\n7875/7875 [==============================] - 75s 10ms/step - loss: 0.1316 - accuracy: 0.9532 - val_loss: 0.2075 - val_accuracy: 0.9223\nEpoch 32/40\n7875/7875 [==============================] - 74s 9ms/step - loss: 0.1273 - accuracy: 0.9553 - val_loss: 0.2021 - val_accuracy: 0.9239\nEpoch 33/40\n7875/7875 [==============================] - 74s 9ms/step - loss: 0.1258 - accuracy: 0.9560 - val_loss: 0.2043 - val_accuracy: 0.9248\nEpoch 34/40\n7875/7875 [==============================] - 74s 9ms/step - loss: 0.1208 - accuracy: 0.9579 - val_loss: 0.2084 - val_accuracy: 0.9240\nEpoch 35/40\n7875/7875 [==============================] - 74s 9ms/step - loss: 0.1181 - accuracy: 0.9593 - val_loss: 0.2114 - val_accuracy: 0.9211\nEpoch 36/40\n7875/7875 [==============================] - 76s 10ms/step - loss: 0.1156 - accuracy: 0.9609 - val_loss: 0.2137 - val_accuracy: 0.9222\nEpoch 37/40\n7875/7875 [==============================] - 76s 10ms/step - loss: 0.1125 - accuracy: 0.9616 - val_loss: 0.2278 - val_accuracy: 0.9185\nEpoch 38/40\n7875/7875 [==============================] - 75s 10ms/step - loss: 0.1091 - accuracy: 0.9627 - val_loss: 0.2193 - val_accuracy: 0.9226\nEpoch 39/40\n7875/7875 [==============================] - 74s 9ms/step - loss: 0.1058 - accuracy: 0.9646 - val_loss: 0.2273 - val_accuracy: 0.9205\nEpoch 40/40\n7875/7875 [==============================] - 74s 9ms/step - loss: 0.1039 - accuracy: 0.9648 - val_loss: 0.2276 - val_accuracy: 0.9209\n",
          "output_type": "stream"
        }
      ]
    },
    {
      "cell_type": "code",
      "source": [
        "plt.plot(history.history['accuracy'],\n",
        "         label='Доля верных ответов на обучающем наборе')\n",
        "plt.plot(history.history['val_accuracy'],\n",
        "         label='Доля верных ответов на проверочном наборе')\n",
        "plt.xlabel('Эпоха обучения')\n",
        "plt.ylabel('Доля верных ответов')\n",
        "plt.legend()\n",
        "plt.show()"
      ],
      "metadata": {
        "execution": {
          "iopub.status.busy": "2024-03-04T07:27:53.587942Z",
          "iopub.execute_input": "2024-03-04T07:27:53.588431Z",
          "iopub.status.idle": "2024-03-04T07:27:53.867889Z",
          "shell.execute_reply.started": "2024-03-04T07:27:53.588382Z",
          "shell.execute_reply": "2024-03-04T07:27:53.866261Z"
        },
        "trusted": true,
        "id": "h2QppcYQqbXz",
        "outputId": "1dda9f9d-219f-49cf-eddd-d68b5e6e2c84"
      },
      "execution_count": null,
      "outputs": [
        {
          "output_type": "display_data",
          "data": {
            "text/plain": "<Figure size 432x288 with 1 Axes>",
            "image/png": "[encoded data removed]"
          },
          "metadata": {
            "needs_background": "light"
          }
        }
      ]
    },
    {
      "cell_type": "markdown",
      "source": [
        "## Готовим данные для LeaderBoard"
      ],
      "metadata": {
        "id": "2FnMBCivqbX0"
      }
    },
    {
      "cell_type": "code",
      "source": [
        "sample_submission = pd.read_csv(KAGGLE_PATH + 'sample_submission.csv', index_col='id')\n",
        "sample_submission.label = model.predict_classes(x_test)\n",
        "sample_submission.to_csv(\"sample_submission.csv\")"
      ],
      "metadata": {
        "execution": {
          "iopub.status.busy": "2024-03-04T07:27:53.869404Z",
          "iopub.execute_input": "2024-03-04T07:27:53.869818Z",
          "iopub.status.idle": "2024-03-04T07:27:54.268412Z",
          "shell.execute_reply.started": "2024-03-04T07:27:53.869779Z",
          "shell.execute_reply": "2024-03-04T07:27:54.266972Z"
        },
        "trusted": true,
        "id": "T2sb220BqbX1",
        "outputId": "61195191-36fc-4495-b7de-aba3b2b4595c"
      },
      "execution_count": null,
      "outputs": [
        {
          "name": "stderr",
          "text": "/opt/conda/lib/python3.7/site-packages/tensorflow/python/keras/engine/sequential.py:450: UserWarning: `model.predict_classes()` is deprecated and will be removed after 2021-01-01. Please use instead:* `np.argmax(model.predict(x), axis=-1)`,   if your model does multi-class classification   (e.g. if it uses a `softmax` last-layer activation).* `(model.predict(x) > 0.5).astype(\"int32\")`,   if your model does binary classification   (e.g. if it uses a `sigmoid` last-layer activation).\n  warnings.warn('`model.predict_classes()` is deprecated and '\n",
          "output_type": "stream"
        }
      ]
    }
  ]
}
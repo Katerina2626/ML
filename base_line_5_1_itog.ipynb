{
  "metadata": {
    "kernelspec": {
      "language": "python",
      "display_name": "Python 3",
      "name": "python3"
    },
    "language_info": {
      "name": "python",
      "version": "3.7.9",
      "mimetype": "text/x-python",
      "codemirror_mode": {
        "name": "ipython",
        "version": 3
      },
      "pygments_lexer": "ipython3",
      "nbconvert_exporter": "python",
      "file_extension": ".py"
    },
    "kaggle": {
      "accelerator": "gpu",
      "dataSources": [
        {
          "sourceId": 26119,
          "databundleVersionId": 2013734,
          "sourceType": "competition"
        }
      ],
      "dockerImageVersionId": 30066,
      "isInternetEnabled": false,
      "language": "python",
      "sourceType": "notebook",
      "isGpuEnabled": true
    },
    "colab": {
      "provenance": [],
      "include_colab_link": true
    }
  },
  "nbformat_minor": 0,
  "nbformat": 4,
  "cells": [
    {
      "cell_type": "markdown",
      "metadata": {
        "id": "view-in-github",
        "colab_type": "text"
      },
      "source": [
        "<a href=\"https://colab.research.google.com/github/Katerina2626/ML/blob/main/base_line_5_1_itog.ipynb\" target=\"_parent\"><img src=\"https://colab.research.google.com/assets/colab-badge.svg\" alt=\"Open In Colab\"/></a>"
      ]
    },
    {
      "cell_type": "markdown",
      "source": [
        "# Плотное векторное представление слов для определения тональности текста отзывов на фильмы из IMDb (Internet Movie Database)\n",
        "\n",
        "Учебный курс \"[Нейросети для анализа текстов](https://www.asozykin.ru/courses/nnpython)\"."
      ],
      "metadata": {
        "id": "vuwq5vu_Xtjg"
      }
    },
    {
      "cell_type": "code",
      "source": [
        "from tensorflow.keras.datasets import imdb\n",
        "from tensorflow.keras.models import Sequential\n",
        "from tensorflow.keras.layers import Dense, Embedding, Flatten, Dropout, GlobalAveragePooling1D\n",
        "from tensorflow.keras.callbacks import EarlyStopping\n",
        "from tensorflow.keras import utils\n",
        "from tensorflow.keras.preprocessing.sequence import pad_sequences\n",
        "# работа с обратной связью от обучающейся нейронной сети\n",
        "from tensorflow.keras.callbacks import EarlyStopping, ModelCheckpoint, ReduceLROnPlateau\n",
        "import numpy as np\n",
        "import pandas as pd\n",
        "import matplotlib.pyplot as plt\n",
        "%matplotlib inline\n",
        "import os\n",
        "for dirname, _, filenames in os.walk('/kaggle/input'):\n",
        "    for filename in filenames:\n",
        "        print(os.path.join(dirname, filename))"
      ],
      "metadata": {
        "_uuid": "8f2839f25d086af736a60e9eeb907d3b93b6e0e5",
        "_cell_guid": "b1076dfc-b9ad-4769-8c92-a6c4dae69d19",
        "execution": {
          "iopub.status.busy": "2024-03-03T17:01:52.698852Z",
          "iopub.execute_input": "2024-03-03T17:01:52.699615Z",
          "iopub.status.idle": "2024-03-03T17:01:59.748859Z",
          "shell.execute_reply.started": "2024-03-03T17:01:52.699499Z",
          "shell.execute_reply": "2024-03-03T17:01:59.747705Z"
        },
        "trusted": true,
        "id": "Qo2IJDFgXtjo"
      },
      "execution_count": null,
      "outputs": []
    },
    {
      "cell_type": "markdown",
      "source": [
        "Загружаем данные"
      ],
      "metadata": {
        "id": "Wm2M33JNXtjr"
      }
    },
    {
      "cell_type": "code",
      "source": [
        "KAGGLE_PATH = '/kaggle/input/dl-urfu-imdb/'\n",
        "x_train = np.load(KAGGLE_PATH + 'train.npy', allow_pickle=True)\n",
        "y_train = np.load(KAGGLE_PATH + 'train_label.npy', allow_pickle=True)\n",
        "x_test = np.load(KAGGLE_PATH + 'test.npy', allow_pickle=True)\n",
        "x_train.shape, y_train.shape, x_test.shape,"
      ],
      "metadata": {
        "_uuid": "d629ff2d2480ee46fbb7e2d37f6b5fab8052498a",
        "_cell_guid": "79c7e3d0-c299-4dcb-8224-4455121ee9b0",
        "execution": {
          "iopub.status.busy": "2024-03-03T17:01:59.751519Z",
          "iopub.execute_input": "2024-03-03T17:01:59.751893Z",
          "iopub.status.idle": "2024-03-03T17:02:01.224845Z",
          "shell.execute_reply.started": "2024-03-03T17:01:59.751858Z",
          "shell.execute_reply": "2024-03-03T17:02:01.223726Z"
        },
        "trusted": true,
        "id": "L4WBTW1cXtjs"
      },
      "execution_count": null,
      "outputs": []
    },
    {
      "cell_type": "markdown",
      "source": [
        "## Подготовка данных для обучения"
      ],
      "metadata": {
        "id": "c7mJXmTzXtjt"
      }
    },
    {
      "cell_type": "code",
      "source": [
        "max_words = 10_000\n",
        "maxlen = 256\n",
        "x_train = pad_sequences(x_train, maxlen=maxlen, padding='post')\n",
        "x_test = pad_sequences(x_test, maxlen=maxlen, padding='post')"
      ],
      "metadata": {
        "execution": {
          "iopub.status.busy": "2024-03-03T17:02:01.226610Z",
          "iopub.execute_input": "2024-03-03T17:02:01.227095Z",
          "iopub.status.idle": "2024-03-03T17:02:03.776965Z",
          "shell.execute_reply.started": "2024-03-03T17:02:01.227046Z",
          "shell.execute_reply": "2024-03-03T17:02:03.775795Z"
        },
        "trusted": true,
        "id": "LkLM6kzaXtjt"
      },
      "execution_count": null,
      "outputs": []
    },
    {
      "cell_type": "markdown",
      "source": [
        "## Создание нейронной сети"
      ],
      "metadata": {
        "id": "DPy5HTHCXtju"
      }
    },
    {
      "cell_type": "code",
      "source": [
        "model = Sequential()\n",
        "model.add(Embedding(max_words, 16, input_length=maxlen))\n",
        "model.add(GlobalAveragePooling1D())\n",
        "model.add(Dense(32, activation='relu'))\n",
        "model.add(Dense(1, activation='sigmoid'))"
      ],
      "metadata": {
        "execution": {
          "iopub.status.busy": "2024-03-03T17:02:03.778683Z",
          "iopub.execute_input": "2024-03-03T17:02:03.779065Z",
          "iopub.status.idle": "2024-03-03T17:02:03.882524Z",
          "shell.execute_reply.started": "2024-03-03T17:02:03.779027Z",
          "shell.execute_reply": "2024-03-03T17:02:03.881632Z"
        },
        "trusted": true,
        "id": "Elii4mv7Xtjv"
      },
      "execution_count": null,
      "outputs": []
    },
    {
      "cell_type": "code",
      "source": [
        "model.compile(optimizer='adam',\n",
        "              loss='binary_crossentropy',\n",
        "              metrics=['accuracy'])"
      ],
      "metadata": {
        "execution": {
          "iopub.status.busy": "2024-03-03T17:02:03.884937Z",
          "iopub.execute_input": "2024-03-03T17:02:03.885267Z",
          "iopub.status.idle": "2024-03-03T17:02:03.904081Z",
          "shell.execute_reply.started": "2024-03-03T17:02:03.885235Z",
          "shell.execute_reply": "2024-03-03T17:02:03.902274Z"
        },
        "trusted": true,
        "id": "Ou2AE5vxXtjv"
      },
      "execution_count": null,
      "outputs": []
    },
    {
      "cell_type": "markdown",
      "source": [
        "## Обучаем нейронную сеть"
      ],
      "metadata": {
        "id": "z0RnIfN7Xtjw"
      }
    },
    {
      "cell_type": "code",
      "source": [
        "history = model.fit(x_train,\n",
        "                    y_train,\n",
        "                    epochs=10,\n",
        "                    batch_size=256,\n",
        "                    validation_split=0.1)"
      ],
      "metadata": {
        "execution": {
          "iopub.status.busy": "2024-03-03T17:02:03.905792Z",
          "iopub.execute_input": "2024-03-03T17:02:03.906139Z",
          "iopub.status.idle": "2024-03-03T17:02:17.983708Z",
          "shell.execute_reply.started": "2024-03-03T17:02:03.906105Z",
          "shell.execute_reply": "2024-03-03T17:02:17.982790Z"
        },
        "trusted": true,
        "id": "k7_4N1WPXtjx"
      },
      "execution_count": null,
      "outputs": []
    },
    {
      "cell_type": "code",
      "source": [
        "plt.plot(history.history['accuracy'],\n",
        "         label='Доля верных ответов на обучающем наборе')\n",
        "plt.plot(history.history['val_accuracy'],\n",
        "         label='Доля верных ответов на проверочном наборе')\n",
        "plt.xlabel('Эпоха обучения')\n",
        "plt.ylabel('Доля верных ответов')\n",
        "plt.legend()\n",
        "plt.show()"
      ],
      "metadata": {
        "execution": {
          "iopub.status.busy": "2024-03-03T17:02:17.985378Z",
          "iopub.execute_input": "2024-03-03T17:02:17.986025Z",
          "iopub.status.idle": "2024-03-03T17:02:18.221858Z",
          "shell.execute_reply.started": "2024-03-03T17:02:17.985983Z",
          "shell.execute_reply": "2024-03-03T17:02:18.220616Z"
        },
        "trusted": true,
        "id": "PIUZT0TiXtjx"
      },
      "execution_count": null,
      "outputs": []
    },
    {
      "cell_type": "markdown",
      "source": [
        "## Готовим данные для LeaderBoard"
      ],
      "metadata": {
        "id": "YzU99oRKXtjy"
      }
    },
    {
      "cell_type": "code",
      "source": [
        "sample_submission = pd.read_csv(KAGGLE_PATH + 'sample_supmission.csv', index_col='id')\n",
        "sample_submission.label = model.predict_classes(x_test)\n",
        "sample_submission.to_csv(\"sample_submission.csv\")"
      ],
      "metadata": {
        "execution": {
          "iopub.status.busy": "2024-03-03T17:02:18.223542Z",
          "iopub.execute_input": "2024-03-03T17:02:18.224051Z",
          "iopub.status.idle": "2024-03-03T17:02:18.504745Z",
          "shell.execute_reply.started": "2024-03-03T17:02:18.224000Z",
          "shell.execute_reply": "2024-03-03T17:02:18.503411Z"
        },
        "trusted": true,
        "id": "IdRFf5dAXtjz"
      },
      "execution_count": null,
      "outputs": []
    }
  ]
}